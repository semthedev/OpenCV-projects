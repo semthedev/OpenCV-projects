{
  "nbformat": 4,
  "nbformat_minor": 0,
  "metadata": {
    "colab": {
      "provenance": [],
      "authorship_tag": "ABX9TyPM9zWJqMXrxSenV3SLEBAE",
      "include_colab_link": true
    },
    "kernelspec": {
      "name": "python3",
      "display_name": "Python 3"
    },
    "language_info": {
      "name": "python"
    }
  },
  "cells": [
    {
      "cell_type": "markdown",
      "metadata": {
        "id": "view-in-github",
        "colab_type": "text"
      },
      "source": [
        "<a href=\"https://colab.research.google.com/github/semthedev/OpenCV-projects/blob/main/lab_03_MNIST_digit_recognition_with_PyTorch.ipynb\" target=\"_parent\"><img src=\"https://colab.research.google.com/assets/colab-badge.svg\" alt=\"Open In Colab\"/></a>"
      ]
    },
    {
      "cell_type": "markdown",
      "source": [
        "### Распознавание цифры по базе MNIST / Digit Recognition using the MNIST Dataset\n",
        "\n",
        "In this lab , I familiarize myself with the basic methods of building and training a simple neural network for recognizing handwritten digits from the MNIST dataset using the PyTorch framework. MNIST (Modified National Institute of Standards and Technology) is a classic dataset containing images of handwritten digits (0 to 9), widely used for educational and research purposes to test computer vision and deep learning techniques.\n"
      ],
      "metadata": {
        "id": "_nVs3wTCQYNK"
      }
    },
    {
      "cell_type": "markdown",
      "source": [
        "Throughout this work, I carry out the following steps:\n",
        "\n",
        "1.   Load data *.npz file, which contains both training and test sets (images and their corresponding labels).\n",
        "2.   Preprocess the loaded data by normalizing image pixels and converting numeric labels into one-hot format.\n",
        "3.   Create Datasets and DataLoaders in PyTorch to efficiently handle batches during training and testing.\n",
        "4.   Define a simple model using nn.Sequential, which includes several fully connected layers and a ReLU activation function.\n",
        "5.   Train the model with the MSE loss function (for one-hot labels) and the Adam optimizer, then evaluate its performance on the test data.\n",
        "6.   Visualize the training process by plotting the error on both the training and testing sets.\n",
        "7.   Apply the trained model to a randomly selected image from the test set and compare the predicted digit with the correct label.\n",
        "\n",
        "\n"
      ],
      "metadata": {
        "id": "qcjnBkqoRaSw"
      }
    },
    {
      "cell_type": "markdown",
      "source": [
        "## Импорт необходимых библиотек"
      ],
      "metadata": {
        "id": "11GKTrZuSD7l"
      }
    },
    {
      "cell_type": "code",
      "execution_count": 48,
      "metadata": {
        "id": "iczZQK6FBZ4f"
      },
      "outputs": [],
      "source": [
        "import math\n",
        "import numpy as np\n",
        "import matplotlib.pyplot as plt\n",
        "\n",
        "%matplotlib inline\n",
        "\n",
        "from tensorflow.keras.datasets import mnist          # MNIST: база рукописных цифр\n",
        "from tensorflow.keras.models import Sequential       # Последовательная модель\n",
        "from tensorflow.keras.layers import Dense            # Полносвязный слой (Dense)\n",
        "from tensorflow.keras import utils                   # Утилиты для подготовки данных\n",
        "\n",
        "# PyTorch\n",
        "import torch\n",
        "import torch.nn as nn\n",
        "from torch.utils.data import TensorDataset, DataLoader\n",
        "from torchsummary import summary"
      ]
    },
    {
      "cell_type": "markdown",
      "source": [
        "## Загрузка данных MNIST из .npz-файла"
      ],
      "metadata": {
        "id": "77dNJMhASsE9"
      }
    },
    {
      "cell_type": "code",
      "source": [
        "path = '/content/drive/MyDrive/8 семестр весна (4 курс 2025 года)/Система компьютерного зрения /lab-03/mnist.npz'"
      ],
      "metadata": {
        "id": "cK0ORJUuCW_n"
      },
      "execution_count": 50,
      "outputs": []
    },
    {
      "cell_type": "code",
      "source": [
        "# Кладём данные в словарь \"data_orig\" для удобства\n",
        "data_orig = np.load(path, allow_pickle=True)\n",
        "data_orig = {\n",
        "    \"train\": {\n",
        "        \"x\": data_orig[\"x_train\"],\n",
        "        \"y\": data_orig[\"y_train\"],\n",
        "    },\n",
        "    \"test\": {\n",
        "        \"x\": data_orig[\"x_test\"],\n",
        "        \"y\": data_orig[\"y_test\"],\n",
        "    }\n",
        "}"
      ],
      "metadata": {
        "id": "rvf9Gg_1EHTo"
      },
      "execution_count": 52,
      "outputs": []
    },
    {
      "cell_type": "code",
      "source": [
        "# Печатаем информацию о размере тренировочных и тестовых выборок\n",
        "print (\"Train images\", data_orig[\"train\"][\"x\"].shape)\n",
        "print (\"Train answers\", data_orig[\"train\"][\"y\"].shape)\n",
        "print (\"Test images\", data_orig[\"test\"][\"x\"].shape)\n",
        "print (\"Test answers\", data_orig[\"test\"][\"y\"].shape)"
      ],
      "metadata": {
        "colab": {
          "base_uri": "https://localhost:8080/"
        },
        "id": "101XUmWUEv_4",
        "outputId": "cd079a7e-1025-48b8-813f-16cdcf0aceba"
      },
      "execution_count": 54,
      "outputs": [
        {
          "output_type": "stream",
          "name": "stdout",
          "text": [
            "Train images (60000, 28, 28)\n",
            "Train answers (60000,)\n",
            "Test images (10000, 28, 28)\n",
            "Test answers (10000,)\n"
          ]
        }
      ]
    },
    {
      "cell_type": "code",
      "source": [
        "# Печатаем структуру словаря (ключи train/test и их содержимое)\n",
        "print(\"Ключи в файле:\", data_orig)"
      ],
      "metadata": {
        "colab": {
          "base_uri": "https://localhost:8080/"
        },
        "collapsed": true,
        "id": "Dsva2ereHf1P",
        "outputId": "3bf45a71-8c4b-4c74-cab2-a9794467c4ca"
      },
      "execution_count": 55,
      "outputs": [
        {
          "output_type": "stream",
          "name": "stdout",
          "text": [
            "Ключи в файле: {'train': {'x': array([[[0, 0, 0, ..., 0, 0, 0],\n",
            "        [0, 0, 0, ..., 0, 0, 0],\n",
            "        [0, 0, 0, ..., 0, 0, 0],\n",
            "        ...,\n",
            "        [0, 0, 0, ..., 0, 0, 0],\n",
            "        [0, 0, 0, ..., 0, 0, 0],\n",
            "        [0, 0, 0, ..., 0, 0, 0]],\n",
            "\n",
            "       [[0, 0, 0, ..., 0, 0, 0],\n",
            "        [0, 0, 0, ..., 0, 0, 0],\n",
            "        [0, 0, 0, ..., 0, 0, 0],\n",
            "        ...,\n",
            "        [0, 0, 0, ..., 0, 0, 0],\n",
            "        [0, 0, 0, ..., 0, 0, 0],\n",
            "        [0, 0, 0, ..., 0, 0, 0]],\n",
            "\n",
            "       [[0, 0, 0, ..., 0, 0, 0],\n",
            "        [0, 0, 0, ..., 0, 0, 0],\n",
            "        [0, 0, 0, ..., 0, 0, 0],\n",
            "        ...,\n",
            "        [0, 0, 0, ..., 0, 0, 0],\n",
            "        [0, 0, 0, ..., 0, 0, 0],\n",
            "        [0, 0, 0, ..., 0, 0, 0]],\n",
            "\n",
            "       ...,\n",
            "\n",
            "       [[0, 0, 0, ..., 0, 0, 0],\n",
            "        [0, 0, 0, ..., 0, 0, 0],\n",
            "        [0, 0, 0, ..., 0, 0, 0],\n",
            "        ...,\n",
            "        [0, 0, 0, ..., 0, 0, 0],\n",
            "        [0, 0, 0, ..., 0, 0, 0],\n",
            "        [0, 0, 0, ..., 0, 0, 0]],\n",
            "\n",
            "       [[0, 0, 0, ..., 0, 0, 0],\n",
            "        [0, 0, 0, ..., 0, 0, 0],\n",
            "        [0, 0, 0, ..., 0, 0, 0],\n",
            "        ...,\n",
            "        [0, 0, 0, ..., 0, 0, 0],\n",
            "        [0, 0, 0, ..., 0, 0, 0],\n",
            "        [0, 0, 0, ..., 0, 0, 0]],\n",
            "\n",
            "       [[0, 0, 0, ..., 0, 0, 0],\n",
            "        [0, 0, 0, ..., 0, 0, 0],\n",
            "        [0, 0, 0, ..., 0, 0, 0],\n",
            "        ...,\n",
            "        [0, 0, 0, ..., 0, 0, 0],\n",
            "        [0, 0, 0, ..., 0, 0, 0],\n",
            "        [0, 0, 0, ..., 0, 0, 0]]], dtype=uint8), 'y': array([5, 0, 4, ..., 5, 6, 8], dtype=uint8)}, 'test': {'x': array([[[0, 0, 0, ..., 0, 0, 0],\n",
            "        [0, 0, 0, ..., 0, 0, 0],\n",
            "        [0, 0, 0, ..., 0, 0, 0],\n",
            "        ...,\n",
            "        [0, 0, 0, ..., 0, 0, 0],\n",
            "        [0, 0, 0, ..., 0, 0, 0],\n",
            "        [0, 0, 0, ..., 0, 0, 0]],\n",
            "\n",
            "       [[0, 0, 0, ..., 0, 0, 0],\n",
            "        [0, 0, 0, ..., 0, 0, 0],\n",
            "        [0, 0, 0, ..., 0, 0, 0],\n",
            "        ...,\n",
            "        [0, 0, 0, ..., 0, 0, 0],\n",
            "        [0, 0, 0, ..., 0, 0, 0],\n",
            "        [0, 0, 0, ..., 0, 0, 0]],\n",
            "\n",
            "       [[0, 0, 0, ..., 0, 0, 0],\n",
            "        [0, 0, 0, ..., 0, 0, 0],\n",
            "        [0, 0, 0, ..., 0, 0, 0],\n",
            "        ...,\n",
            "        [0, 0, 0, ..., 0, 0, 0],\n",
            "        [0, 0, 0, ..., 0, 0, 0],\n",
            "        [0, 0, 0, ..., 0, 0, 0]],\n",
            "\n",
            "       ...,\n",
            "\n",
            "       [[0, 0, 0, ..., 0, 0, 0],\n",
            "        [0, 0, 0, ..., 0, 0, 0],\n",
            "        [0, 0, 0, ..., 0, 0, 0],\n",
            "        ...,\n",
            "        [0, 0, 0, ..., 0, 0, 0],\n",
            "        [0, 0, 0, ..., 0, 0, 0],\n",
            "        [0, 0, 0, ..., 0, 0, 0]],\n",
            "\n",
            "       [[0, 0, 0, ..., 0, 0, 0],\n",
            "        [0, 0, 0, ..., 0, 0, 0],\n",
            "        [0, 0, 0, ..., 0, 0, 0],\n",
            "        ...,\n",
            "        [0, 0, 0, ..., 0, 0, 0],\n",
            "        [0, 0, 0, ..., 0, 0, 0],\n",
            "        [0, 0, 0, ..., 0, 0, 0]],\n",
            "\n",
            "       [[0, 0, 0, ..., 0, 0, 0],\n",
            "        [0, 0, 0, ..., 0, 0, 0],\n",
            "        [0, 0, 0, ..., 0, 0, 0],\n",
            "        ...,\n",
            "        [0, 0, 0, ..., 0, 0, 0],\n",
            "        [0, 0, 0, ..., 0, 0, 0],\n",
            "        [0, 0, 0, ..., 0, 0, 0]]], dtype=uint8), 'y': array([7, 2, 1, ..., 4, 5, 6], dtype=uint8)}}\n"
          ]
        }
      ]
    },
    {
      "cell_type": "code",
      "source": [
        "# Для каждого ключа (train/test) смотрим форму массивов\n",
        "for key in data_orig:\n",
        "    print(\"Train images\", data_orig[\"train\"][\"x\"].shape)\n",
        "    print(\"Train answers\", data_orig[\"train\"][\"y\"].shape)\n",
        "    print(\"Test images\",  data_orig[\"test\"][\"x\"].shape)\n",
        "    print(\"Test answers\", data_orig[\"test\"][\"y\"].shape)"
      ],
      "metadata": {
        "colab": {
          "base_uri": "https://localhost:8080/"
        },
        "id": "XIB2oaWbTGtB",
        "outputId": "965ee514-9f50-40cf-a896-46cf212ca79e"
      },
      "execution_count": 56,
      "outputs": [
        {
          "output_type": "stream",
          "name": "stdout",
          "text": [
            "Train images (60000, 28, 28)\n",
            "Train answers (60000,)\n",
            "Test images (10000, 28, 28)\n",
            "Test answers (10000,)\n",
            "Train images (60000, 28, 28)\n",
            "Train answers (60000,)\n",
            "Test images (10000, 28, 28)\n",
            "Test answers (10000,)\n"
          ]
        }
      ]
    },
    {
      "cell_type": "code",
      "source": [
        "# Пример: смотрим одну из картинок (photo_number) и её метку\n",
        "photo_number = 89\n",
        "print(\"Number:\", data_orig[\"train\"][\"y\"][photo_number])\n",
        "plt.imshow(data_orig[\"train\"][\"x\"][photo_number], cmap=\"gray\")\n",
        "plt.show()"
      ],
      "metadata": {
        "colab": {
          "base_uri": "https://localhost:8080/",
          "height": 448
        },
        "id": "DtU-d1FsTJ0S",
        "outputId": "893ad48f-a115-4301-e163-6ca9204d52c5"
      },
      "execution_count": 57,
      "outputs": [
        {
          "output_type": "stream",
          "name": "stdout",
          "text": [
            "Number: 4\n"
          ]
        },
        {
          "output_type": "display_data",
          "data": {
            "text/plain": [
              "<Figure size 640x480 with 1 Axes>"
            ],
            "image/png": "[encoded data removed]"
          },
          "metadata": {}
        }
      ]
    },
    {
      "cell_type": "markdown",
      "source": [
        "## Вспомогательные функции для нормализации и one-hot кодирования (PyTorch)"
      ],
      "metadata": {
        "id": "rZyQ9-u5TPFh"
      }
    },
    {
      "cell_type": "code",
      "source": [
        "def get_vector_by_number(count):\n",
        "    \"\"\"\n",
        "    Преобразует число в вектор длины `count` с 1.0 на позиции числа и 0.0 иначе.\n",
        "    Пример:\n",
        "        1 -> [0, 1, 0, 0, 0, 0, 0, 0, 0, 0]\n",
        "        5 -> [0, 0, 0, 0, 0, 1, 0, 0, 0, 0]\n",
        "    \"\"\"\n",
        "    def f(number):\n",
        "        res = [0.0] * count\n",
        "        if (number >= 0 and number < count):\n",
        "            res[number] = 1.0\n",
        "        return res\n",
        "    return f"
      ],
      "metadata": {
        "id": "m3m-vr7sH_eq"
      },
      "execution_count": 58,
      "outputs": []
    },
    {
      "cell_type": "code",
      "source": [
        "def data_normalize_x(data_x):\n",
        "    \"\"\"\n",
        "    Нормализация датасета по X:\n",
        "    - Преобразуем numpy в torch-тензор\n",
        "    - Если размерность (N, 28, 28), разворачиваем в (N, 784)\n",
        "    - Делим на 255.0, приводим к float32\n",
        "    \"\"\"\n",
        "    data_x = torch.from_numpy(data_x)\n",
        "    data_x_shape_len = len(data_x.shape)\n",
        "\n",
        "    if data_x_shape_len == 3:      # (N, 28, 28)\n",
        "        data_x = data_x.reshape(data_x.shape[0], -1)\n",
        "    elif data_x_shape_len == 2:    # (28, 28) или (N, ?) -- просто выравниваем\n",
        "        data_x = data_x.reshape(-1)\n",
        "\n",
        "    data_x = data_x.to(torch.float32) / 255.0\n",
        "    return data_x\n",
        "\n",
        "def data_normalize_y(data_y):\n",
        "    \"\"\"\n",
        "    Нормализация датасета по Y:\n",
        "    - Применяем функцию get_vector_by_number(10) к каждому элементу\n",
        "    - Превращаем список списков в torch-тензор\n",
        "    \"\"\"\n",
        "    data_y = list(map(get_vector_by_number(10), data_y))\n",
        "    data_y = torch.tensor(data_y)\n",
        "    return data_y"
      ],
      "metadata": {
        "id": "61cHaQAhIokh"
      },
      "execution_count": 59,
      "outputs": []
    },
    {
      "cell_type": "markdown",
      "source": [
        "## Формирование датасетов и DataLoader"
      ],
      "metadata": {
        "id": "d9rs-wUpZiTN"
      }
    },
    {
      "cell_type": "code",
      "source": [
        "batch_size = 128\n",
        "\n",
        "# Нормализуем данные и кладём в общий словарь \"data\"\n",
        "data = {\n",
        "    \"train\": {\n",
        "        \"x\": data_normalize_x(data_orig[\"train\"][\"x\"]),\n",
        "        \"y\": data_normalize_y(data_orig[\"train\"][\"y\"]),\n",
        "    },\n",
        "    \"test\": {\n",
        "        \"x\": data_normalize_x(data_orig[\"test\"][\"x\"]),\n",
        "        \"y\": data_normalize_y(data_orig[\"test\"][\"y\"]),\n",
        "    }\n",
        "}\n",
        "\n",
        "# Создаём TensorDataset (x, y) для train и test\n",
        "train_dataset = TensorDataset(data[\"train\"][\"x\"], data[\"train\"][\"y\"])\n",
        "test_dataset  = TensorDataset(data[\"test\"][\"x\"],  data[\"test\"][\"y\"])\n",
        "\n",
        "# Считаем, сколько всего примеров\n",
        "train_count = data[\"train\"][\"x\"].shape[0]\n",
        "test_count  = data[\"test\"][\"x\"].shape[0]\n",
        "\n",
        "# DataLoader для обучения и теста\n",
        "train_loader = DataLoader(\n",
        "    train_dataset,\n",
        "    batch_size=batch_size,\n",
        "    drop_last=True,\n",
        "    shuffle=True\n",
        ")\n",
        "test_loader = DataLoader(\n",
        "    test_dataset,\n",
        "    batch_size=batch_size,\n",
        "    drop_last=True,\n",
        "    shuffle=False\n",
        ")"
      ],
      "metadata": {
        "id": "IFcmpLnFI9Gv"
      },
      "execution_count": 60,
      "outputs": []
    },
    {
      "cell_type": "markdown",
      "source": [
        "## Создание модели в PyTorch (nn.Sequential, Adam, MSELoss)"
      ],
      "metadata": {
        "id": "VoWyCpkHZu2d"
      }
    },
    {
      "cell_type": "code",
      "source": [
        "def create_model():\n",
        "    input_shape = 784   # размерность входа (28x28)\n",
        "    output_shape = 10   # 10 цифр (0..9)\n",
        "\n",
        "    model = nn.Sequential(\n",
        "        nn.Linear(input_shape, 128),\n",
        "        nn.ReLU(),\n",
        "        nn.Linear(128, output_shape),\n",
        "    )\n",
        "\n",
        "    # Оптимизатор Adam\n",
        "    optimizer = torch.optim.Adam(model.parameters(), lr=1e-3)\n",
        "    # Функция потерь MSE (для one-hot)\n",
        "    loss = nn.MSELoss()\n",
        "\n",
        "    return {\n",
        "        \"model\": model,\n",
        "        \"input_shape\": input_shape,\n",
        "        \"output_shape\": output_shape,\n",
        "        \"optimizer\": optimizer,\n",
        "        \"loss\": loss\n",
        "    }"
      ],
      "metadata": {
        "id": "8BbR0QFeJKmG"
      },
      "execution_count": 61,
      "outputs": []
    },
    {
      "cell_type": "code",
      "source": [
        "# Теперь, когда nn импортирован, проблем быть не должно\n",
        "model_info = create_model()\n",
        "summary(model_info[\"model\"], (model_info[\"input_shape\"],))"
      ],
      "metadata": {
        "colab": {
          "base_uri": "https://localhost:8080/"
        },
        "id": "MBPDUTesJTU-",
        "outputId": "9b98afed-a269-40fa-d8a3-e17d08fe9777"
      },
      "execution_count": 62,
      "outputs": [
        {
          "output_type": "stream",
          "name": "stdout",
          "text": [
            "----------------------------------------------------------------\n",
            "        Layer (type)               Output Shape         Param #\n",
            "================================================================\n",
            "            Linear-1                  [-1, 128]         100,480\n",
            "              ReLU-2                  [-1, 128]               0\n",
            "            Linear-3                   [-1, 10]           1,290\n",
            "================================================================\n",
            "Total params: 101,770\n",
            "Trainable params: 101,770\n",
            "Non-trainable params: 0\n",
            "----------------------------------------------------------------\n",
            "Input size (MB): 0.00\n",
            "Forward/backward pass size (MB): 0.00\n",
            "Params size (MB): 0.39\n",
            "Estimated Total Size (MB): 0.39\n",
            "----------------------------------------------------------------\n"
          ]
        }
      ]
    },
    {
      "cell_type": "markdown",
      "source": [
        "## Цикл обучения (Training Loop)"
      ],
      "metadata": {
        "id": "Kc3H_HyxaHND"
      }
    },
    {
      "cell_type": "code",
      "source": [
        "# Выбираем устройство (GPU/CPU)\n",
        "tensor_device = torch.device(\"cuda\" if torch.cuda.is_available() else \"cpu\")\n",
        "\n",
        "# Количество эпох\n",
        "epochs = 20\n",
        "\n",
        "# Создаём модель/оптимизатор/лосс\n",
        "model_info = create_model()\n",
        "\n",
        "model      = model_info[\"model\"]\n",
        "optimizer  = model_info[\"optimizer\"]\n",
        "loss_fn    = model_info[\"loss\"]\n",
        "\n",
        "# Переносим модель на устройство\n",
        "model = model.to(tensor_device)\n",
        "\n",
        "# Для записи истории ошибок (train/test)\n",
        "history = {\n",
        "    \"loss_train\": [],\n",
        "    \"loss_test\": [],\n",
        "}\n",
        "\n",
        "for step_index in range(epochs):\n",
        "    loss_train = 0\n",
        "    loss_test = 0\n",
        "    batch_iter = 0\n",
        "\n",
        "    # --- Обучение на train_loader ---\n",
        "    for batch_x, batch_y in train_loader:\n",
        "        # Переносим батч на GPU/CPU\n",
        "        batch_x = batch_x.to(tensor_device)\n",
        "        batch_y = batch_y.to(tensor_device)\n",
        "\n",
        "        # Прямой проход\n",
        "        model_res = model(batch_x)\n",
        "\n",
        "        # Считаем ошибку (MSE между предсказанием и one-hot)\n",
        "        loss_value = loss_fn(model_res, batch_y)\n",
        "        loss_train = loss_value.item()  # для печати\n",
        "\n",
        "        # Обратный проход\n",
        "        optimizer.zero_grad()\n",
        "        loss_value.backward()\n",
        "        optimizer.step()\n",
        "\n",
        "        # (Необязательно) чистим кэш CUDA\n",
        "        if torch.cuda.is_available():\n",
        "            torch.cuda.empty_cache()\n",
        "\n",
        "        # Удаляем батчевые переменные, чтобы не копились\n",
        "        del batch_x, batch_y\n",
        "\n",
        "        # Просто печатаем прогресс в процентах\n",
        "        batch_iter += batch_size\n",
        "        batch_iter_value = round(batch_iter / train_count * 100)\n",
        "        print(f\"\\rStep {step_index+1}, {batch_iter_value}%\", end='')\n",
        "\n",
        "    # --- Оценка на test_loader ---\n",
        "    for batch_x, batch_y in test_loader:\n",
        "        batch_x = batch_x.to(tensor_device)\n",
        "        batch_y = batch_y.to(tensor_device)\n",
        "\n",
        "        model_res = model(batch_x)\n",
        "        loss_value = loss_fn(model_res, batch_y)\n",
        "        loss_test = loss_value.item()\n",
        "\n",
        "    # Выводим данные по эпохе (loss_train и loss_test)\n",
        "    print(\"\\r\", end='')  # возврат каретки\n",
        "    print(f\"Step {step_index+1}, loss: {loss_train},\\tloss_test: {loss_test}\")\n",
        "\n",
        "    # Добавляем в историю\n",
        "    history[\"loss_train\"].append(loss_train)\n",
        "    history[\"loss_test\"].append(loss_test)\n",
        "\n",
        "    # Останов, если ошибка стала совсем маленькой (и прошло хотя бы 5 эпох)\n",
        "    if loss_test < 0.015 and step_index > 5:\n",
        "        break"
      ],
      "metadata": {
        "colab": {
          "base_uri": "https://localhost:8080/"
        },
        "id": "XXYEYbkzJw5F",
        "outputId": "ded09ab5-a94b-4e05-cab7-a94003692f35"
      },
      "execution_count": 63,
      "outputs": [
        {
          "output_type": "stream",
          "name": "stdout",
          "text": [
            "Step 1, loss: 0.01374361664056778,\tloss_test: 0.019670657813549042\n",
            "Step 2, loss: 0.011046008206903934,\tloss_test: 0.015241448767483234\n",
            "Step 3, loss: 0.010936027392745018,\tloss_test: 0.01450028084218502\n",
            "Step 4, loss: 0.007261125836521387,\tloss_test: 0.013204231858253479\n",
            "Step 5, loss: 0.007868155837059021,\tloss_test: 0.012496165931224823\n",
            "Step 6, loss: 0.01397570502012968,\tloss_test: 0.010815052315592766\n",
            "Step 7, loss: 0.008200520649552345,\tloss_test: 0.010952373035252094\n"
          ]
        }
      ]
    },
    {
      "cell_type": "markdown",
      "source": [
        "## Визуализация истории обучения"
      ],
      "metadata": {
        "id": "gTTU39QTajPo"
      }
    },
    {
      "cell_type": "code",
      "source": [
        "plt.plot(np.multiply(history['loss_train'], 100), label='Ошибка обучения')\n",
        "plt.plot(np.multiply(history['loss_test'], 100),  label='Ошибка на тестах')\n",
        "plt.ylabel('Процент')\n",
        "plt.xlabel('Эпоха')\n",
        "plt.legend()\n",
        "plt.show()"
      ],
      "metadata": {
        "colab": {
          "base_uri": "https://localhost:8080/",
          "height": 449
        },
        "id": "KZ-b_u9-KWN7",
        "outputId": "10e31e7a-b1c9-4a2b-c1ed-5adc2c58216d"
      },
      "execution_count": 64,
      "outputs": [
        {
          "output_type": "display_data",
          "data": {
            "text/plain": [
              "<Figure size 640x480 with 1 Axes>"
            ],
            "image/png": "[encoded data removed]"
          },
          "metadata": {}
        }
      ]
    },
    {
      "cell_type": "markdown",
      "source": [
        "## Проверка модели на одном изображении"
      ],
      "metadata": {
        "id": "YLMkKxuPatjA"
      }
    },
    {
      "cell_type": "code",
      "source": [
        "def get_answer_from_vector(vector):\n",
        "    \"\"\"\n",
        "    Возвращает индекс максимального элемента в vector (аналог argmax).\n",
        "    \"\"\"\n",
        "    value_max = -math.inf\n",
        "    value_index = 0\n",
        "    for i in range(len(vector)):\n",
        "        if value_max < vector[i]:\n",
        "            value_max = vector[i]\n",
        "            value_index = i\n",
        "    return value_index"
      ],
      "metadata": {
        "id": "HaY3tiFQKj65"
      },
      "execution_count": 65,
      "outputs": []
    },
    {
      "cell_type": "code",
      "source": [
        "photo_number = 6\n",
        "photo = data_orig[\"test\"][\"x\"][photo_number]   # одно изображение (28×28)\n",
        "correct_answer = data_orig[\"test\"][\"y\"][photo_number]  # метка (0..9)\n",
        "\n",
        "# Нормализуем вход (тот же пайплайн, что в data_normalize_x)\n",
        "tensor_x = data_normalize_x(photo)\n",
        "tensor_x = tensor_x[None, :]  # добавляем размерность батча (1, 784)\n",
        "\n",
        "# Прогоняем через модель\n",
        "tensor_y = model(tensor_x)\n",
        "\n",
        "# Превращаем выход в список и берём индекс макс. значения\n",
        "model_answer = get_answer_from_vector(tensor_y[0].tolist())\n",
        "\n",
        "print(\"Model answer\", model_answer)\n",
        "print(\"Correct answer\", correct_answer)\n",
        "\n",
        "# Рисуем само изображение (28x28)\n",
        "plt.imshow(photo, cmap='gray')\n",
        "plt.show()"
      ],
      "metadata": {
        "colab": {
          "base_uri": "https://localhost:8080/",
          "height": 466
        },
        "id": "hJ_SsLfYKyXt",
        "outputId": "0ea5e9f8-07f8-4474-f1f0-506884ee3e76"
      },
      "execution_count": 66,
      "outputs": [
        {
          "output_type": "stream",
          "name": "stdout",
          "text": [
            "Model answer 4\n",
            "Correct answer 4\n"
          ]
        },
        {
          "output_type": "display_data",
          "data": {
            "text/plain": [
              "<Figure size 640x480 with 1 Axes>"
            ],
            "image/png": "[encoded data removed]"
          },
          "metadata": {}
        }
      ]
    }
  ]
}